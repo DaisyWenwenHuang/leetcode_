{
 "cells": [
  {
   "cell_type": "markdown",
   "metadata": {},
   "source": [
    "https://leetcode.com/problems/two-sum/"
   ]
  },
  {
   "cell_type": "markdown",
   "metadata": {},
   "source": [
    "thinking :\n",
    "      - if all numbers are positive ,we can filter out the numbers that are smaller than the target\n",
    "        but according to the constrains :\n",
    "          - -10e-9 <= nums[i] <= 10e-9,  numbers in the list can be negative\n",
    "        - so this approach is not going to work.\n",
    " \n",
    "- put the list in a hashtable, check if the difference(target-num) is also in the table and is not he same index of the current num.\n",
    "- return indexes of the current num and the found one."
   ]
  },
  {
   "cell_type": "code",
   "execution_count": 12,
   "metadata": {},
   "outputs": [
    {
     "ename": "SyntaxError",
     "evalue": "invalid syntax (<ipython-input-12-b4226b634f77>, line 7)",
     "output_type": "error",
     "traceback": [
      "\u001b[1;36m  File \u001b[1;32m\"<ipython-input-12-b4226b634f77>\"\u001b[1;36m, line \u001b[1;32m7\u001b[0m\n\u001b[1;33m    dic[j]=i\u001b[0m\n\u001b[1;37m      ^\u001b[0m\n\u001b[1;31mSyntaxError\u001b[0m\u001b[1;31m:\u001b[0m invalid syntax\n"
     ]
    }
   ],
   "source": [
    "# leetcode submission\n",
    "class Solution:\n",
    "    def twoSum(self, nums: List[int], target: int) -> List[int]:\n",
    "        dic={}\n",
    "        for i,j in enumerate(nums):\n",
    "            left=target-j\n",
    "            if left in dic:\n",
    "                return sorted([i,dic[left]])\n",
    "            dic[j]=i"
   ]
  },
  {
   "cell_type": "markdown",
   "metadata": {},
   "source": [
    "###difference between sorted() and sort()\n",
    "- sorted() is an function, can be used not only on list. it will return a new list/tuple/whatever depened on which type is in the ().can be print out directly as it returns a new list/tuple/whatever.\n",
    "- sort() is a method of a list, can only use on list, it is inplace, which means alter the original list and do not return a new list. if print(list1.sort()), the output will be None as the code list1.sort() only altered the order of the list1, did not return a new list. if print the list1 after list1.sort(), it will print out the reordered list1."
   ]
  },
  {
   "cell_type": "code",
   "execution_count": null,
   "metadata": {},
   "outputs": [],
   "source": []
  }
 ],
 "metadata": {
  "kernelspec": {
   "display_name": "Python 3",
   "language": "python",
   "name": "python3"
  },
  "language_info": {
   "codemirror_mode": {
    "name": "ipython",
    "version": 3
   },
   "file_extension": ".py",
   "mimetype": "text/x-python",
   "name": "python",
   "nbconvert_exporter": "python",
   "pygments_lexer": "ipython3",
   "version": "3.7.3"
  }
 },
 "nbformat": 4,
 "nbformat_minor": 2
}
