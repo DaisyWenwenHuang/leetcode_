{
 "cells": [
  {
   "cell_type": "markdown",
   "metadata": {},
   "source": [
    "https://leetcode.com/problems/roman-to-integer"
   ]
  },
  {
   "attachments": {},
   "cell_type": "markdown",
   "metadata": {},
   "source": [
    "Thinking out loud:\n",
    "   - Input: s = \"MCMXCIV\"\n",
    "   - Output: 1994\n",
    "    - Hashtabel to store Roman-Int paris,\n",
    "    - Iterate the list and add each value(Num).\n",
    "    - compair the current value with the next one, if smaller, Num-2*value(current)\n",
    "   -  - \t ->M(1000),Num=0+1000,M>C,Num=1000\n",
    "      -  ->C(100),Num=1000+100=1100, C<M, Num=1100-2*100=900\n",
    "      -  ->M(1000),Num=900+1000=1900, M>X,Num=1900\n",
    "      -   ->X(10),Num=1900+10=1910, X<C,Num=1910-2*10=1890\n",
    "      -   ->C(100),Num=1890+100=1990, C>I,Num=1990\n",
    "      -   ->I(1),Num=1990+1=1991,I<V,Num=1991-2*1=1989\n",
    "      -   ->V(5),Num=1989+5=1994\n",
    "        "
   ]
  },
  {
   "cell_type": "code",
   "execution_count": null,
   "metadata": {},
   "outputs": [],
   "source": [
    "class Solution:\n",
    "    def romanToInt(self, s: str) -> int:\n",
    "        dic={'I':1,'V':5,'X':10,'L':50,\n",
    "            'C':100,'D':500,'M':1000}\n",
    "        num=0\n",
    "        for i in range(len(s)):\n",
    "            num+=dic[s[i]]\n",
    "            if i== len(s)-1:\n",
    "                None\n",
    "            elif dic[s[i]]<dic[s[i+1]]:\n",
    "                num=num-dic[s[i]]*2\n",
    "        return num"
   ]
  }
 ],
 "metadata": {
  "kernelspec": {
   "display_name": "Python 3",
   "language": "python",
   "name": "python3"
  },
  "language_info": {
   "codemirror_mode": {
    "name": "ipython",
    "version": 3
   },
   "file_extension": ".py",
   "mimetype": "text/x-python",
   "name": "python",
   "nbconvert_exporter": "python",
   "pygments_lexer": "ipython3",
   "version": "3.7.3"
  }
 },
 "nbformat": 4,
 "nbformat_minor": 2
}
