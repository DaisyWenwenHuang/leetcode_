{
 "cells": [
  {
   "cell_type": "markdown",
   "metadata": {},
   "source": [
    "https://leetcode.com/problems/add-two-numbers/"
   ]
  },
  {
   "attachments": {},
   "cell_type": "markdown",
   "metadata": {},
   "source": [
    "Thinking:\n",
    "\t\t- A palindrome number is a number that it reads the same backward as forward. Like 121,545\n",
    "\t\t- ! Salve it without converting the integer to a string. \n",
    "        - But can still using the same thinking as comparing from the head and tail. \n",
    "        - If different, return false, if same, continue.\n",
    "\t\t\t- If integer is negative, not a palindrome number as -121 is not as 121-\n",
    "\t\t\t- If num<0, return False\n",
    "\t\t\t\n"
   ]
  },
  {
   "cell_type": "code",
   "execution_count": null,
   "metadata": {},
   "outputs": [],
   "source": [
    "# Definition for singly-linked list.\n",
    "# class ListNode:\n",
    "#     def __init__(self, val=0, next=None):\n",
    "#         self.val = val\n",
    "#         self.next = next\n",
    "class Solution:\n",
    "    def addTwoNumbers(self, l1: Optional[ListNode], l2: Optional[ListNode]) -> Optional[ListNode]:\n",
    "        dummy=tail=ListNode(0)\n",
    "        s=0\n",
    "        while l1 or l2 or s:\n",
    "            s+= (l1.val if l1 else 0)+(l2.val if l2 else 0)\n",
    "            tail.next=ListNode(s%10)\n",
    "            tail=tail.next\n",
    "            s//=10\n",
    "            l1=l1.next if l1 else None\n",
    "            l2=l2.next if l2 else None\n",
    "        return dummy.next"
   ]
  }
 ],
 "metadata": {
  "kernelspec": {
   "display_name": "Python 3",
   "language": "python",
   "name": "python3"
  },
  "language_info": {
   "codemirror_mode": {
    "name": "ipython",
    "version": 3
   },
   "file_extension": ".py",
   "mimetype": "text/x-python",
   "name": "python",
   "nbconvert_exporter": "python",
   "pygments_lexer": "ipython3",
   "version": "3.7.3"
  }
 },
 "nbformat": 4,
 "nbformat_minor": 2
}
