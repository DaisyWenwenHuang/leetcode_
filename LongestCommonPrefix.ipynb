{
 "cells": [
  {
   "cell_type": "markdown",
   "metadata": {},
   "source": [
    "https://leetcode.com/problems/longest-common-prefix/"
   ]
  },
  {
   "attachments": {},
   "cell_type": "markdown",
   "metadata": {},
   "source": [
    "Thinking:\n",
    "    \t- Iterate list and compare one by one to find the common prefix (Pre)\n",
    "\t\t- Longest prefix <= min(len(str))\n",
    "\t\t- Reorder the list by len of each string, min to max, \n",
    "        - iterate from the shortest to the longest.\n",
    "        - Pre=[the shortest str], compare till the end, update pre along the way"
   ]
  },
  {
   "cell_type": "code",
   "execution_count": null,
   "metadata": {},
   "outputs": [],
   "source": [
    "class Solution:\n",
    "    def longestCommonPrefix(self, strs: List[str]) -> str:\n",
    "        if not strs:\n",
    "            return ''\n",
    "        \n",
    "        strs.sort(key=len)\n",
    "        pre=strs[0]\n",
    "        \n",
    "        for i in range(1,len(strs)):\n",
    "                j=0\n",
    "                while j<len(pre):\n",
    "                    if pre[j]!=strs[i][j]:\n",
    "                        break\n",
    "                    j+=1\n",
    "                pre=pre[:j]\n",
    "        return pre"
   ]
  },
  {
   "cell_type": "code",
   "execution_count": null,
   "metadata": {},
   "outputs": [],
   "source": []
  }
 ],
 "metadata": {
  "kernelspec": {
   "display_name": "Python 3",
   "language": "python",
   "name": "python3"
  },
  "language_info": {
   "codemirror_mode": {
    "name": "ipython",
    "version": 3
   },
   "file_extension": ".py",
   "mimetype": "text/x-python",
   "name": "python",
   "nbconvert_exporter": "python",
   "pygments_lexer": "ipython3",
   "version": "3.7.3"
  }
 },
 "nbformat": 4,
 "nbformat_minor": 2
}
