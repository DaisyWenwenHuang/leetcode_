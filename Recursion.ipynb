{
 "cells": [
  {
   "cell_type": "markdown",
   "metadata": {},
   "source": [
    "https://leetcode.com/problems/search-in-a-binary-search-tree/"
   ]
  },
  {
   "cell_type": "markdown",
   "metadata": {},
   "source": [
    "Thinking:\n",
    "    - base: current node==val, return subtree rooted with that node\n",
    "            current node==None, return null\n",
    "    - Recursion Relation:\n",
    "            - if current node ==val\n",
    "            - val< node.val->search left\n",
    "            - val> node.val->search right\n",
    "            "
   ]
  },
  {
   "cell_type": "code",
   "execution_count": null,
   "metadata": {},
   "outputs": [],
   "source": [
    "# Definition for a binary tree node.\n",
    "# class TreeNode:\n",
    "#     def __init__(self, val=0, left=None, right=None):\n",
    "#         self.val = val\n",
    "#         self.left = left\n",
    "#         self.right = right\n",
    "class Solution:\n",
    "    def searchBST(self,root:Optional[TreeNode],val:int)->Optional[TreeNode]:\n",
    "        # base case\n",
    "        if not root: return None\n",
    "        if root.val==val: return root\n",
    "        \n",
    "        # recursion relation\n",
    "        if val>root.val:\n",
    "            return self.searchBST(root.right,val)\n",
    "        else:\n",
    "            return self.searchBST(root.left,val)"
   ]
  },
  {
   "cell_type": "markdown",
   "metadata": {},
   "source": [
    "https://leetcode.com/problems/fibonacci-number/"
   ]
  },
  {
   "cell_type": "markdown",
   "metadata": {},
   "source": [
    "Thinking:\n",
    "    - memorizaton"
   ]
  },
  {
   "cell_type": "code",
   "execution_count": null,
   "metadata": {},
   "outputs": [],
   "source": [
    "class Solution:\n",
    "    def fib(self, n: int) -> int:\n",
    "        cache={0:0,1:1}\n",
    "        \n",
    "        # check if answer already exists\n",
    "        if n in cache.keys():\n",
    "            return cache[n]\n",
    "    \n",
    "        # base case\n",
    "        if n==0:\n",
    "            return cache[0]\n",
    "        # recursion relation\n",
    "        if n>=2:\n",
    "            res=self.fib(n-1)+self.fib(n-2)\n",
    "        \n",
    "        \n",
    "        # save answer\n",
    "        cache[n]=res\n",
    "        return res"
   ]
  },
  {
   "cell_type": "markdown",
   "metadata": {},
   "source": [
    "https://leetcode.com/problems/climbing-stairs"
   ]
  },
  {
   "cell_type": "code",
   "execution_count": null,
   "metadata": {},
   "outputs": [],
   "source": [
    "class Solution:\n",
    "    def climbStairs(self, n: int) -> int:\n",
    "        cache={1:1,2:2}\n",
    "        for i in range(3,n+1):\n",
    "            cache[i]=cache[i-1]+cache[i-2]\n",
    "        return cache[n]"
   ]
  },
  {
   "cell_type": "markdown",
   "metadata": {},
   "source": [
    "https://leetcode.com/problems/min-cost-climbing-stairs/"
   ]
  },
  {
   "cell_type": "markdown",
   "metadata": {},
   "source": [
    "Thinking:\n",
    "    - dp ,iterate from the top to the buttom staris\n",
    "    - updating the cost[i] to the minimal cost to reach ith stairs."
   ]
  },
  {
   "cell_type": "code",
   "execution_count": 10,
   "metadata": {},
   "outputs": [
    {
     "name": "stdout",
     "output_type": "stream",
     "text": [
      "[6, 105, 5, 5, 4, 102, 3, 2, 100, 1, 0]\n",
      "6\n"
     ]
    }
   ],
   "source": [
    "cost = [1,100,1,1,1,100,1,1,100,1]\n",
    "cost.append(0)\n",
    "for i in range(len(cost)-3,-1,-1):\n",
    "        cost[i]+=min(cost[i+1],cost[i+2])\n",
    "        a=min(cost[1],cost[0])\n",
    "print(cost)\n",
    "print(a)\n"
   ]
  },
  {
   "cell_type": "code",
   "execution_count": 12,
   "metadata": {},
   "outputs": [
    {
     "name": "stdout",
     "output_type": "stream",
     "text": [
      "[25, 15, 20, 0]\n",
      "15\n"
     ]
    }
   ],
   "source": [
    "cost=[10,15,20]\n",
    "\n",
    "cost.append(0)\n",
    "for i in range(len(cost)-3,-1,-1):\n",
    "        cost[i]+=min(cost[i+1],cost[i+2])\n",
    "        a=min(cost[1],cost[0])\n",
    "print(cost)\n",
    "print(a)\n"
   ]
  },
  {
   "cell_type": "code",
   "execution_count": null,
   "metadata": {},
   "outputs": [],
   "source": [
    "class Solution:\n",
    "    def minCostClimbingStairs(self, cost: List[int]) -> int:\n",
    "        for i in range(2, len(cost)): \n",
    "            cost[i] += min(cost[i - 1],cost[i - 2])\n",
    "        return min(cost[-1], cost[-2])"
   ]
  }
 ],
 "metadata": {
  "kernelspec": {
   "display_name": "Python 3",
   "language": "python",
   "name": "python3"
  },
  "language_info": {
   "codemirror_mode": {
    "name": "ipython",
    "version": 3
   },
   "file_extension": ".py",
   "mimetype": "text/x-python",
   "name": "python",
   "nbconvert_exporter": "python",
   "pygments_lexer": "ipython3",
   "version": "3.7.3"
  }
 },
 "nbformat": 4,
 "nbformat_minor": 2
}
